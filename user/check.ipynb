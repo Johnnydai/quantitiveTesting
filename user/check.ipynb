{
 "cells": [
  {
   "cell_type": "code",
   "execution_count": 2,
   "id": "fbf76117-979d-462e-b530-0a176f2f0e9b",
   "metadata": {},
   "outputs": [
    {
     "name": "stderr",
     "output_type": "stream",
     "text": [
      "/Users/johnny.junpeng.dai/Library/Python/3.9/lib/python/site-packages/urllib3/__init__.py:35: NotOpenSSLWarning: urllib3 v2 only supports OpenSSL 1.1.1+, currently the 'ssl' module is compiled with 'LibreSSL 2.8.3'. See: https://github.com/urllib3/urllib3/issues/3020\n",
      "  warnings.warn(\n"
     ]
    },
    {
     "name": "stdout",
     "output_type": "stream",
     "text": [
      "b'{\"user\":{\"id\":\"SD75828\"},\"token\":{\"expiry\":14400.0},\"permissions\":[]}'\n",
      "username:1012169960@qq.compassword:Ace144169\n"
     ]
    }
   ],
   "source": [
    "from machine_lib import * \n",
    "import numpy as np\n",
    "\n",
    "s = login()"
   ]
  },
  {
   "cell_type": "markdown",
   "id": "c55f86b4-b464-44e4-ab33-ca2532128fa2",
   "metadata": {},
   "source": [
    "## 7, Get submittable alphas\n",
    "check_submission and view alphas"
   ]
  },
  {
   "cell_type": "code",
   "execution_count": 6,
   "id": "0972b4ee-7b9d-4a6f-a7ec-e43849f54275",
   "metadata": {},
   "outputs": [
    {
     "name": "stdout",
     "output_type": "stream",
     "text": [
      "b'{\"user\":{\"id\":\"SD75828\"},\"token\":{\"expiry\":14400.0},\"permissions\":[]}'\n",
      "username:1012169960@qq.compassword:Ace144169\n",
      "0\n",
      "count: 0\n",
      "[]\n"
     ]
    }
   ],
   "source": [
    "# 获得特定时间段内回测过的满足sharpe>1.25和fitness>1的alpha\n",
    "th_tracker = get_alphas(\"2025-03-11\", \"2025-02-12\", 1.25, 1, \"USA\", 100, \"submit\")\n",
    "# 只获取alpha_id即可\n",
    "stone_bag = []\n",
    "for alpha in th_tracker['next'] + th_tracker['decay']:\n",
    "    stone_bag.append(alpha[0])\n",
    "# 输出满足条件的alpha_id\n",
    "print(stone_bag)"
   ]
  },
  {
   "cell_type": "markdown",
   "id": "802d5f47-6a65-4b93-8f00-397cbd276520",
   "metadata": {},
   "source": [
    "## 8, 给定alpha_id，直接提交对应alpha"
   ]
  },
  {
   "cell_type": "code",
   "execution_count": 5,
   "id": "9ae8ab54",
   "metadata": {},
   "outputs": [
    {
     "ename": "NameError",
     "evalue": "name 'stone_bag' is not defined",
     "output_type": "error",
     "traceback": [
      "\u001b[0;31m---------------------------------------------------------------------------\u001b[0m",
      "\u001b[0;31mNameError\u001b[0m                                 Traceback (most recent call last)",
      "Cell \u001b[0;32mIn[5], line 2\u001b[0m\n\u001b[1;32m      1\u001b[0m \u001b[38;5;66;03m# 从第0个开始尝试提交stone_bag中的alpha\u001b[39;00m\n\u001b[0;32m----> 2\u001b[0m submit_alpha(\u001b[43mstone_bag\u001b[49m, \u001b[38;5;241m0\u001b[39m)\n",
      "\u001b[0;31mNameError\u001b[0m: name 'stone_bag' is not defined"
     ]
    }
   ],
   "source": [
    "# 从第0个开始尝试提交stone_bag中的alpha\n",
    "submit_alpha(stone_bag, 0)"
   ]
  }
 ],
 "metadata": {
  "kernelspec": {
   "display_name": "Python 3",
   "language": "python",
   "name": "python3"
  },
  "language_info": {
   "codemirror_mode": {
    "name": "ipython",
    "version": 3
   },
   "file_extension": ".py",
   "mimetype": "text/x-python",
   "name": "python",
   "nbconvert_exporter": "python",
   "pygments_lexer": "ipython3",
   "version": "3.9.6"
  }
 },
 "nbformat": 4,
 "nbformat_minor": 5
}
