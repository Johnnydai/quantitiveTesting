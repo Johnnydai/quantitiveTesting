{
 "cells": [
  {
   "cell_type": "markdown",
   "id": "333be283-d493-4723-9ae5-cd503ac112aa",
   "metadata": {},
   "source": [
    "## Import Library"
   ]
  },
  {
   "cell_type": "code",
   "execution_count": 1,
   "id": "fbf76117-979d-462e-b530-0a176f2f0e9b",
   "metadata": {},
   "outputs": [
    {
     "name": "stderr",
     "output_type": "stream",
     "text": [
      "/Users/daijunpeng/Library/Python/3.9/lib/python/site-packages/urllib3/__init__.py:34: NotOpenSSLWarning: urllib3 v2.0 only supports OpenSSL 1.1.1+, currently the 'ssl' module is compiled with 'LibreSSL 2.8.3'. See: https://github.com/urllib3/urllib3/issues/3020\n",
      "  warnings.warn(\n"
     ]
    }
   ],
   "source": [
    "# 将文件_lib.py里的函数导入到本文件中\n",
    "from machine_lib import * \n",
    "import numpy as np"
   ]
  },
  {
   "cell_type": "markdown",
   "id": "1ef5bef8-1053-4e98-84a5-822694058aa5",
   "metadata": {},
   "source": [
    "## 1, Login\n",
    "填写用户名和密码与服务器建立连接session，相当于在网页上的登录操作"
   ]
  },
  {
   "cell_type": "markdown",
   "id": "ca2e173e",
   "metadata": {},
   "source": [
    "1, 去machine_lib.py login() 填写 username & pwd\n",
    "\n",
    "2, 保存修改后machine_lib.py文件\n",
    "\n",
    "3, 回到本文件重启内核\n",
    "\n",
    "**------要重启内核！！！！！-------**\n",
    "\n",
    "4, 重新运行第一格 from machine_lib import *\n",
    "\n",
    "5, 所有machine_lib里的改动都要进行上述1-4 步骤生效"
   ]
  },
  {
   "cell_type": "code",
   "execution_count": 2,
   "id": "52afa2f2-b36f-42da-a2bd-f336bb579b80",
   "metadata": {},
   "outputs": [
    {
     "name": "stdout",
     "output_type": "stream",
     "text": [
      "b'{\"user\":{\"id\":\"SD75828\"},\"token\":{\"expiry\":14400.0},\"permissions\":[\"TUTORIAL\",\"WORKDAY\"]}'\n",
      "username:1012169960@qq.com logged inpassword:Ace144169\n"
     ]
    }
   ],
   "source": [
    "# 观察返回信息看是否连接成功\n",
    "# 之后所有的api操作都需要使用一个已经登录了的session\n",
    "s = login()\n",
    "\n",
    "#用region_dict去找到对应region和univsere作为simulation的setting\n",
    "region_dict = {\"usa\" : (\"USA\", \"TOP3000\"),\"asi\": (\"ASI\", \"MINVOL1M\"),\"eur\": (\"EUR\", \"TOP1200\"),\n",
    "               \"glb\": (\"GLB\", \"TOP3000\"),\"hkg\": (\"HKG\",\"TOP800\"),\"twn\": (\"TWN\", \"TOP500\"), \"jpn\": (\"JPN\", \"TOP1600\"),\n",
    "               \"kor\": (\"KOR\", \"TOP600\"), \"chn\": (\"CHN\", \"TOP2000U\"), \"amr\" : (\"AMR\", \"TOP600\")}"
   ]
  },
  {
   "cell_type": "markdown",
   "id": "38e838a5-4f2d-4065-a3cd-99ee530ecbe2",
   "metadata": {},
   "source": [
    "## 2, get data fields\n",
    "\n",
    "通过api获取数据的信息并转化成pandas dataframe便于使用"
   ]
  },
  {
   "cell_type": "code",
   "execution_count": 22,
   "id": "4c455d1d-2776-4e92-b778-071900803722",
   "metadata": {},
   "outputs": [
    {
     "name": "stdout",
     "output_type": "stream",
     "text": [
      "                                 id  \\\n",
      "0             beta_last_30_days_spy   \n",
      "1            beta_last_360_days_spy   \n",
      "2             beta_last_60_days_spy   \n",
      "3             beta_last_90_days_spy   \n",
      "4      correlation_last_30_days_spy   \n",
      "5     correlation_last_360_days_spy   \n",
      "6      correlation_last_60_days_spy   \n",
      "7      correlation_last_90_days_spy   \n",
      "8      systematic_risk_last_30_days   \n",
      "9     systematic_risk_last_360_days   \n",
      "10     systematic_risk_last_60_days   \n",
      "11     systematic_risk_last_90_days   \n",
      "12   unsystematic_risk_last_30_days   \n",
      "13  unsystematic_risk_last_360_days   \n",
      "14   unsystematic_risk_last_60_days   \n",
      "15   unsystematic_risk_last_90_days   \n",
      "\n",
      "                                          description  \\\n",
      "0                              Beta to SPY in 30 Days   \n",
      "1                             Beta to SPY in 360 Days   \n",
      "2                              Beta to SPY in 60 Days   \n",
      "3                              Beta to SPY in 90 Days   \n",
      "4                       Correlation to SPY in 30 Days   \n",
      "5                      Correlation to SPY in 360 Days   \n",
      "6                       Correlation to SPY in 60 Days   \n",
      "7                       Correlation to SPY in 90 Days   \n",
      "8                        Systematic Risk Last 30 Days   \n",
      "9                       Systematic Risk Last 360 Days   \n",
      "10                       Systematic Risk Last 60 Days   \n",
      "11                       Systematic Risk Last 90 Days   \n",
      "12   Unsystematic Risk Last 30 Days - Relative to SPY   \n",
      "13  Unsystematic Risk Last 360 Days - Relative to SPY   \n",
      "14   Unsystematic Risk Last 60 Days - Relative to SPY   \n",
      "15   Unsystematic Risk Last 90 Days - Relative to SPY   \n",
      "\n",
      "                                              dataset  \\\n",
      "0   {'id': 'model51', 'name': 'Systematic Risk Met...   \n",
      "1   {'id': 'model51', 'name': 'Systematic Risk Met...   \n",
      "2   {'id': 'model51', 'name': 'Systematic Risk Met...   \n",
      "3   {'id': 'model51', 'name': 'Systematic Risk Met...   \n",
      "4   {'id': 'model51', 'name': 'Systematic Risk Met...   \n",
      "5   {'id': 'model51', 'name': 'Systematic Risk Met...   \n",
      "6   {'id': 'model51', 'name': 'Systematic Risk Met...   \n",
      "7   {'id': 'model51', 'name': 'Systematic Risk Met...   \n",
      "8   {'id': 'model51', 'name': 'Systematic Risk Met...   \n",
      "9   {'id': 'model51', 'name': 'Systematic Risk Met...   \n",
      "10  {'id': 'model51', 'name': 'Systematic Risk Met...   \n",
      "11  {'id': 'model51', 'name': 'Systematic Risk Met...   \n",
      "12  {'id': 'model51', 'name': 'Systematic Risk Met...   \n",
      "13  {'id': 'model51', 'name': 'Systematic Risk Met...   \n",
      "14  {'id': 'model51', 'name': 'Systematic Risk Met...   \n",
      "15  {'id': 'model51', 'name': 'Systematic Risk Met...   \n",
      "\n",
      "                            category  \\\n",
      "0   {'id': 'model', 'name': 'Model'}   \n",
      "1   {'id': 'model', 'name': 'Model'}   \n",
      "2   {'id': 'model', 'name': 'Model'}   \n",
      "3   {'id': 'model', 'name': 'Model'}   \n",
      "4   {'id': 'model', 'name': 'Model'}   \n",
      "5   {'id': 'model', 'name': 'Model'}   \n",
      "6   {'id': 'model', 'name': 'Model'}   \n",
      "7   {'id': 'model', 'name': 'Model'}   \n",
      "8   {'id': 'model', 'name': 'Model'}   \n",
      "9   {'id': 'model', 'name': 'Model'}   \n",
      "10  {'id': 'model', 'name': 'Model'}   \n",
      "11  {'id': 'model', 'name': 'Model'}   \n",
      "12  {'id': 'model', 'name': 'Model'}   \n",
      "13  {'id': 'model', 'name': 'Model'}   \n",
      "14  {'id': 'model', 'name': 'Model'}   \n",
      "15  {'id': 'model', 'name': 'Model'}   \n",
      "\n",
      "                                          subcategory region  delay universe  \\\n",
      "0   {'id': 'model-risk-models', 'name': 'Risk Mode...    USA      1  TOP3000   \n",
      "1   {'id': 'model-risk-models', 'name': 'Risk Mode...    USA      1  TOP3000   \n",
      "2   {'id': 'model-risk-models', 'name': 'Risk Mode...    USA      1  TOP3000   \n",
      "3   {'id': 'model-risk-models', 'name': 'Risk Mode...    USA      1  TOP3000   \n",
      "4   {'id': 'model-risk-models', 'name': 'Risk Mode...    USA      1  TOP3000   \n",
      "5   {'id': 'model-risk-models', 'name': 'Risk Mode...    USA      1  TOP3000   \n",
      "6   {'id': 'model-risk-models', 'name': 'Risk Mode...    USA      1  TOP3000   \n",
      "7   {'id': 'model-risk-models', 'name': 'Risk Mode...    USA      1  TOP3000   \n",
      "8   {'id': 'model-risk-models', 'name': 'Risk Mode...    USA      1  TOP3000   \n",
      "9   {'id': 'model-risk-models', 'name': 'Risk Mode...    USA      1  TOP3000   \n",
      "10  {'id': 'model-risk-models', 'name': 'Risk Mode...    USA      1  TOP3000   \n",
      "11  {'id': 'model-risk-models', 'name': 'Risk Mode...    USA      1  TOP3000   \n",
      "12  {'id': 'model-risk-models', 'name': 'Risk Mode...    USA      1  TOP3000   \n",
      "13  {'id': 'model-risk-models', 'name': 'Risk Mode...    USA      1  TOP3000   \n",
      "14  {'id': 'model-risk-models', 'name': 'Risk Mode...    USA      1  TOP3000   \n",
      "15  {'id': 'model-risk-models', 'name': 'Risk Mode...    USA      1  TOP3000   \n",
      "\n",
      "      type  coverage  userCount  alphaCount themes  \n",
      "0   MATRIX    0.7803        227         651     []  \n",
      "1   MATRIX    0.7605        284         614     []  \n",
      "2   MATRIX    0.7796        429         912     []  \n",
      "3   MATRIX    0.7782        181         709     []  \n",
      "4   MATRIX    0.7803        206         593     []  \n",
      "5   MATRIX    0.7605        134         355     []  \n",
      "6   MATRIX    0.7796        581        1038     []  \n",
      "7   MATRIX    0.7782        151         400     []  \n",
      "8   MATRIX    0.7757        164         448     []  \n",
      "9   MATRIX    0.7561        191         447     []  \n",
      "10  MATRIX    0.7750        472         765     []  \n",
      "11  MATRIX    0.7736        142         348     []  \n",
      "12  MATRIX    0.7757        168         501     []  \n",
      "13  MATRIX    0.7561        329         854     []  \n",
      "14  MATRIX    0.7750        520        1117     []  \n",
      "15  MATRIX    0.7736        232         650     []  \n"
     ]
    }
   ],
   "source": [
    "# 得到地区为USA，股票池为TOP3000的数据集，数据集id为analyst4\n",
    "df = get_datafields(s, dataset_id = 'model51', region='USA', universe='TOP3000', delay=1)\n",
    "print(df)"
   ]
  },
  {
   "cell_type": "markdown",
   "id": "33b770d9",
   "metadata": {},
   "source": [
    "#### 数据预处理\n",
    "1，data type matrix or vector\\\n",
    "2，ts_backfill 回填提高coverage\\\n",
    "3，winsorize 去极值"
   ]
  },
  {
   "cell_type": "code",
   "execution_count": 23,
   "id": "59a0f981-133a-4226-b228-5a91584e5a21",
   "metadata": {},
   "outputs": [
    {
     "name": "stdout",
     "output_type": "stream",
     "text": [
      "['beta_last_30_days_spy', 'beta_last_360_days_spy', 'beta_last_60_days_spy', 'beta_last_90_days_spy', 'correlation_last_30_days_spy', 'correlation_last_360_days_spy', 'correlation_last_60_days_spy', 'correlation_last_90_days_spy', 'systematic_risk_last_30_days', 'systematic_risk_last_360_days', 'systematic_risk_last_60_days', 'systematic_risk_last_90_days', 'unsystematic_risk_last_30_days', 'unsystematic_risk_last_360_days', 'unsystematic_risk_last_60_days', 'unsystematic_risk_last_90_days']\n",
      "['winsorize(ts_backfill(beta_last_30_days_spy, 120), std=4)', 'winsorize(ts_backfill(beta_last_360_days_spy, 120), std=4)', 'winsorize(ts_backfill(beta_last_60_days_spy, 120), std=4)', 'winsorize(ts_backfill(beta_last_90_days_spy, 120), std=4)', 'winsorize(ts_backfill(correlation_last_30_days_spy, 120), std=4)', 'winsorize(ts_backfill(correlation_last_360_days_spy, 120), std=4)', 'winsorize(ts_backfill(correlation_last_60_days_spy, 120), std=4)', 'winsorize(ts_backfill(correlation_last_90_days_spy, 120), std=4)', 'winsorize(ts_backfill(systematic_risk_last_30_days, 120), std=4)', 'winsorize(ts_backfill(systematic_risk_last_360_days, 120), std=4)', 'winsorize(ts_backfill(systematic_risk_last_60_days, 120), std=4)', 'winsorize(ts_backfill(systematic_risk_last_90_days, 120), std=4)', 'winsorize(ts_backfill(unsystematic_risk_last_30_days, 120), std=4)', 'winsorize(ts_backfill(unsystematic_risk_last_360_days, 120), std=4)', 'winsorize(ts_backfill(unsystematic_risk_last_60_days, 120), std=4)', 'winsorize(ts_backfill(unsystematic_risk_last_90_days, 120), std=4)']\n"
     ]
    }
   ],
   "source": [
    "print(df[df['type'] == \"MATRIX\"][\"id\"].tolist())\n",
    "# 回填处理数据集中type为matrix和vector的数据，并得到处理后的数据字段\n",
    "pc_fields = process_datafields(df, \"matrix\")\n",
    "pc_fields += process_datafields(df, \"vector\")\n",
    "print(pc_fields)"
   ]
  },
  {
   "cell_type": "markdown",
   "id": "ff2dcbb2-2d6c-4076-ac5e-80857adc78a8",
   "metadata": {},
   "source": [
    "## 3, Alpha factory\n",
    "Factory是一个将数据字段，操作符，参数按照一定的方式组合成可以回测的alpha表达式的python方法。\\\n",
    "这里的first order（一阶）指的是直接把数据字段放进操作符中的最简单的组合方式，只抽取一维的信息。"
   ]
  },
  {
   "cell_type": "code",
   "execution_count": 24,
   "id": "6b95c83a-ec99-4564-84b0-5a2c011f8555",
   "metadata": {},
   "outputs": [
    {
     "name": "stdout",
     "output_type": "stream",
     "text": [
      "['ts_mean(winsorize(ts_backfill(beta_last_60_days_spy, 120), std=4), 22)', 'ts_mean(winsorize(ts_backfill(systematic_risk_last_90_days, 120), std=4), 66)', 'ts_product(winsorize(ts_backfill(unsystematic_risk_last_90_days, 120), std=4), 240)', 'ts_std_dev(winsorize(ts_backfill(systematic_risk_last_60_days, 120), std=4), 22)', 'ts_rank(winsorize(ts_backfill(beta_last_90_days_spy, 120), std=4), 66)', 'ts_arg_max(winsorize(ts_backfill(systematic_risk_last_60_days, 120), std=4), 120)', 'ts_std_dev(winsorize(ts_backfill(unsystematic_risk_last_30_days, 120), std=4), 120)', 'ts_arg_max(winsorize(ts_backfill(correlation_last_60_days_spy, 120), std=4), 22)', 'ts_rank(winsorize(ts_backfill(systematic_risk_last_60_days, 120), std=4), 5)', 'ts_scale(winsorize(ts_backfill(beta_last_90_days_spy, 120), std=4), 66)']\n",
      "1008\n"
     ]
    }
   ],
   "source": [
    "# 将数据字段pc_fields使用操作符ts_ops和basic_ops(见machine_lib最前面)进行全组合，得到一阶的alpha表达式\n",
    "first_order = first_order_factory(pc_fields, ts_ops+basic_ops)\n",
    "# 随机打乱first_order的顺序，因为上边处理会使同一个数据字段扎堆出现，不利于短时间内回测更多种alpha\n",
    "np.random.shuffle(first_order)\n",
    "# 输出因子表达式列表前10个（只是用来看看长什么样）\n",
    "print(first_order[:10])\n",
    "print(len(first_order))"
   ]
  },
  {
   "cell_type": "markdown",
   "id": "3e9e0bbe",
   "metadata": {},
   "source": [
    "##### 将factory生成的alpha表达式配以一个初始的decay值作为tuple元组，并以list的形式作为value放入以region为key的字典作为数据结构"
   ]
  },
  {
   "cell_type": "code",
   "execution_count": 25,
   "id": "b4436351-0571-4beb-bf83-348c7dba9122",
   "metadata": {},
   "outputs": [
    {
     "name": "stdout",
     "output_type": "stream",
     "text": [
      "usa : 1008\n"
     ]
    }
   ],
   "source": [
    "# Load with alphas with regions and decay\n",
    "# 对每个因子表达式增加初始的decay值设置\n",
    "fo_alpha_dict = defaultdict(list)\n",
    "init_decay = 3\n",
    "regions = [\"usa\"]\n",
    "for key in regions:\n",
    "    for alpha in first_order:\n",
    "        fo_alpha_dict[key].append((alpha,init_decay))\n",
    "\n",
    "for key, value in fo_alpha_dict.items():\n",
    "    print(\"%s : %d\"%(key, len(value)))"
   ]
  },
  {
   "cell_type": "markdown",
   "id": "ad4cf830-441d-45f1-8e5a-17fa54082461",
   "metadata": {},
   "source": [
    "## 4, simulate alphas\n",
    "\n",
    "请阅读machine_lib中的simulate方法理解代码逻辑"
   ]
  },
  {
   "cell_type": "code",
   "execution_count": 29,
   "id": "dd61f573-4aa0-4acb-a50b-be2869e9a0db",
   "metadata": {},
   "outputs": [
    {
     "name": "stdout",
     "output_type": "stream",
     "text": [
      "b'{\"user\":{\"id\":\"SD75828\"},\"token\":{\"expiry\":14400.0},\"permissions\":[\"TUTORIAL\"]}'\n",
      "username:1012169960@qq.com logged inpassword:Ace144169\n",
      "curr usa len 1008\n",
      "group 0 ts_mean(winsorize(ts_backfill(beta_last_60_days_spy, 120), std=4), 22) USA TOP3000 3\n",
      "group 0 ts_mean(winsorize(ts_backfill(systematic_risk_last_90_days, 120), std=4), 66) USA TOP3000 3\n",
      "group 0 ts_product(winsorize(ts_backfill(unsystematic_risk_last_90_days, 120), std=4), 240) USA TOP3000 3\n",
      "group 0 post done\n",
      "https://api.worldquantbrain.com/simulations/Z7XYBb9w4PqcFALQLdxXFU done simulating, getting alpha details\n",
      "https://api.worldquantbrain.com/simulations/4FBTKjeZJ4Gi8UZfdF0mER9 done simulating, getting alpha details\n",
      "https://api.worldquantbrain.com/simulations/3XkbATaAp4IZ8K21dtAYovhw done simulating, getting alpha details\n",
      "group 0 USA simulate done\n",
      "group 1 ts_std_dev(winsorize(ts_backfill(systematic_risk_last_60_days, 120), std=4), 22) USA TOP3000 3\n",
      "group 1 ts_rank(winsorize(ts_backfill(beta_last_90_days_spy, 120), std=4), 66) USA TOP3000 3\n",
      "group 1 ts_arg_max(winsorize(ts_backfill(systematic_risk_last_60_days, 120), std=4), 120) USA TOP3000 3\n",
      "group 1 post done\n"
     ]
    },
    {
     "ename": "ProxyError",
     "evalue": "HTTPSConnectionPool(host='api.worldquantbrain.com', port=443): Max retries exceeded with url: /simulations/1gk1Oacvt5888Dy1bxL5gGG5 (Caused by ProxyError('Unable to connect to proxy', RemoteDisconnected('Remote end closed connection without response')))",
     "output_type": "error",
     "traceback": [
      "\u001b[0;31m---------------------------------------------------------------------------\u001b[0m",
      "\u001b[0;31mRemoteDisconnected\u001b[0m                        Traceback (most recent call last)",
      "File \u001b[0;32m~/Library/Python/3.9/lib/python/site-packages/urllib3/connectionpool.py:791\u001b[0m, in \u001b[0;36mHTTPConnectionPool.urlopen\u001b[0;34m(self, method, url, body, headers, retries, redirect, assert_same_host, timeout, pool_timeout, release_conn, chunked, body_pos, preload_content, decode_content, **response_kw)\u001b[0m\n\u001b[1;32m    790\u001b[0m \u001b[39m# Make the request on the HTTPConnection object\u001b[39;00m\n\u001b[0;32m--> 791\u001b[0m response \u001b[39m=\u001b[39m \u001b[39mself\u001b[39;49m\u001b[39m.\u001b[39;49m_make_request(\n\u001b[1;32m    792\u001b[0m     conn,\n\u001b[1;32m    793\u001b[0m     method,\n\u001b[1;32m    794\u001b[0m     url,\n\u001b[1;32m    795\u001b[0m     timeout\u001b[39m=\u001b[39;49mtimeout_obj,\n\u001b[1;32m    796\u001b[0m     body\u001b[39m=\u001b[39;49mbody,\n\u001b[1;32m    797\u001b[0m     headers\u001b[39m=\u001b[39;49mheaders,\n\u001b[1;32m    798\u001b[0m     chunked\u001b[39m=\u001b[39;49mchunked,\n\u001b[1;32m    799\u001b[0m     retries\u001b[39m=\u001b[39;49mretries,\n\u001b[1;32m    800\u001b[0m     response_conn\u001b[39m=\u001b[39;49mresponse_conn,\n\u001b[1;32m    801\u001b[0m     preload_content\u001b[39m=\u001b[39;49mpreload_content,\n\u001b[1;32m    802\u001b[0m     decode_content\u001b[39m=\u001b[39;49mdecode_content,\n\u001b[1;32m    803\u001b[0m     \u001b[39m*\u001b[39;49m\u001b[39m*\u001b[39;49mresponse_kw,\n\u001b[1;32m    804\u001b[0m )\n\u001b[1;32m    806\u001b[0m \u001b[39m# Everything went great!\u001b[39;00m\n",
      "File \u001b[0;32m~/Library/Python/3.9/lib/python/site-packages/urllib3/connectionpool.py:537\u001b[0m, in \u001b[0;36mHTTPConnectionPool._make_request\u001b[0;34m(self, conn, method, url, body, headers, retries, timeout, chunked, response_conn, preload_content, decode_content, enforce_content_length)\u001b[0m\n\u001b[1;32m    536\u001b[0m \u001b[39mtry\u001b[39;00m:\n\u001b[0;32m--> 537\u001b[0m     response \u001b[39m=\u001b[39m conn\u001b[39m.\u001b[39;49mgetresponse()\n\u001b[1;32m    538\u001b[0m \u001b[39mexcept\u001b[39;00m (BaseSSLError, \u001b[39mOSError\u001b[39;00m) \u001b[39mas\u001b[39;00m e:\n",
      "File \u001b[0;32m~/Library/Python/3.9/lib/python/site-packages/urllib3/connection.py:461\u001b[0m, in \u001b[0;36mHTTPConnection.getresponse\u001b[0;34m(self)\u001b[0m\n\u001b[1;32m    460\u001b[0m \u001b[39m# Get the response from http.client.HTTPConnection\u001b[39;00m\n\u001b[0;32m--> 461\u001b[0m httplib_response \u001b[39m=\u001b[39m \u001b[39msuper\u001b[39;49m()\u001b[39m.\u001b[39;49mgetresponse()\n\u001b[1;32m    463\u001b[0m \u001b[39mtry\u001b[39;00m:\n",
      "File \u001b[0;32m/Applications/Xcode.app/Contents/Developer/Library/Frameworks/Python3.framework/Versions/3.9/lib/python3.9/http/client.py:1349\u001b[0m, in \u001b[0;36mHTTPConnection.getresponse\u001b[0;34m(self)\u001b[0m\n\u001b[1;32m   1348\u001b[0m \u001b[39mtry\u001b[39;00m:\n\u001b[0;32m-> 1349\u001b[0m     response\u001b[39m.\u001b[39;49mbegin()\n\u001b[1;32m   1350\u001b[0m \u001b[39mexcept\u001b[39;00m \u001b[39mConnectionError\u001b[39;00m:\n",
      "File \u001b[0;32m/Applications/Xcode.app/Contents/Developer/Library/Frameworks/Python3.framework/Versions/3.9/lib/python3.9/http/client.py:316\u001b[0m, in \u001b[0;36mHTTPResponse.begin\u001b[0;34m(self)\u001b[0m\n\u001b[1;32m    315\u001b[0m \u001b[39mwhile\u001b[39;00m \u001b[39mTrue\u001b[39;00m:\n\u001b[0;32m--> 316\u001b[0m     version, status, reason \u001b[39m=\u001b[39m \u001b[39mself\u001b[39;49m\u001b[39m.\u001b[39;49m_read_status()\n\u001b[1;32m    317\u001b[0m     \u001b[39mif\u001b[39;00m status \u001b[39m!=\u001b[39m CONTINUE:\n",
      "File \u001b[0;32m/Applications/Xcode.app/Contents/Developer/Library/Frameworks/Python3.framework/Versions/3.9/lib/python3.9/http/client.py:285\u001b[0m, in \u001b[0;36mHTTPResponse._read_status\u001b[0;34m(self)\u001b[0m\n\u001b[1;32m    282\u001b[0m \u001b[39mif\u001b[39;00m \u001b[39mnot\u001b[39;00m line:\n\u001b[1;32m    283\u001b[0m     \u001b[39m# Presumably, the server closed the connection before\u001b[39;00m\n\u001b[1;32m    284\u001b[0m     \u001b[39m# sending a valid response.\u001b[39;00m\n\u001b[0;32m--> 285\u001b[0m     \u001b[39mraise\u001b[39;00m RemoteDisconnected(\u001b[39m\"\u001b[39m\u001b[39mRemote end closed connection without\u001b[39m\u001b[39m\"\u001b[39m\n\u001b[1;32m    286\u001b[0m                              \u001b[39m\"\u001b[39m\u001b[39m response\u001b[39m\u001b[39m\"\u001b[39m)\n\u001b[1;32m    287\u001b[0m \u001b[39mtry\u001b[39;00m:\n",
      "\u001b[0;31mRemoteDisconnected\u001b[0m: Remote end closed connection without response",
      "\nThe above exception was the direct cause of the following exception:\n",
      "\u001b[0;31mProxyError\u001b[0m                                Traceback (most recent call last)",
      "\u001b[0;31mProxyError\u001b[0m: ('Unable to connect to proxy', RemoteDisconnected('Remote end closed connection without response'))",
      "\nThe above exception was the direct cause of the following exception:\n",
      "\u001b[0;31mMaxRetryError\u001b[0m                             Traceback (most recent call last)",
      "File \u001b[0;32m~/Library/Python/3.9/lib/python/site-packages/requests/adapters.py:486\u001b[0m, in \u001b[0;36mHTTPAdapter.send\u001b[0;34m(self, request, stream, timeout, verify, cert, proxies)\u001b[0m\n\u001b[1;32m    485\u001b[0m \u001b[39mtry\u001b[39;00m:\n\u001b[0;32m--> 486\u001b[0m     resp \u001b[39m=\u001b[39m conn\u001b[39m.\u001b[39;49murlopen(\n\u001b[1;32m    487\u001b[0m         method\u001b[39m=\u001b[39;49mrequest\u001b[39m.\u001b[39;49mmethod,\n\u001b[1;32m    488\u001b[0m         url\u001b[39m=\u001b[39;49murl,\n\u001b[1;32m    489\u001b[0m         body\u001b[39m=\u001b[39;49mrequest\u001b[39m.\u001b[39;49mbody,\n\u001b[1;32m    490\u001b[0m         headers\u001b[39m=\u001b[39;49mrequest\u001b[39m.\u001b[39;49mheaders,\n\u001b[1;32m    491\u001b[0m         redirect\u001b[39m=\u001b[39;49m\u001b[39mFalse\u001b[39;49;00m,\n\u001b[1;32m    492\u001b[0m         assert_same_host\u001b[39m=\u001b[39;49m\u001b[39mFalse\u001b[39;49;00m,\n\u001b[1;32m    493\u001b[0m         preload_content\u001b[39m=\u001b[39;49m\u001b[39mFalse\u001b[39;49;00m,\n\u001b[1;32m    494\u001b[0m         decode_content\u001b[39m=\u001b[39;49m\u001b[39mFalse\u001b[39;49;00m,\n\u001b[1;32m    495\u001b[0m         retries\u001b[39m=\u001b[39;49m\u001b[39mself\u001b[39;49m\u001b[39m.\u001b[39;49mmax_retries,\n\u001b[1;32m    496\u001b[0m         timeout\u001b[39m=\u001b[39;49mtimeout,\n\u001b[1;32m    497\u001b[0m         chunked\u001b[39m=\u001b[39;49mchunked,\n\u001b[1;32m    498\u001b[0m     )\n\u001b[1;32m    500\u001b[0m \u001b[39mexcept\u001b[39;00m (ProtocolError, \u001b[39mOSError\u001b[39;00m) \u001b[39mas\u001b[39;00m err:\n",
      "File \u001b[0;32m~/Library/Python/3.9/lib/python/site-packages/urllib3/connectionpool.py:845\u001b[0m, in \u001b[0;36mHTTPConnectionPool.urlopen\u001b[0;34m(self, method, url, body, headers, retries, redirect, assert_same_host, timeout, pool_timeout, release_conn, chunked, body_pos, preload_content, decode_content, **response_kw)\u001b[0m\n\u001b[1;32m    843\u001b[0m     new_e \u001b[39m=\u001b[39m ProtocolError(\u001b[39m\"\u001b[39m\u001b[39mConnection aborted.\u001b[39m\u001b[39m\"\u001b[39m, new_e)\n\u001b[0;32m--> 845\u001b[0m retries \u001b[39m=\u001b[39m retries\u001b[39m.\u001b[39;49mincrement(\n\u001b[1;32m    846\u001b[0m     method, url, error\u001b[39m=\u001b[39;49mnew_e, _pool\u001b[39m=\u001b[39;49m\u001b[39mself\u001b[39;49m, _stacktrace\u001b[39m=\u001b[39;49msys\u001b[39m.\u001b[39;49mexc_info()[\u001b[39m2\u001b[39;49m]\n\u001b[1;32m    847\u001b[0m )\n\u001b[1;32m    848\u001b[0m retries\u001b[39m.\u001b[39msleep()\n",
      "File \u001b[0;32m~/Library/Python/3.9/lib/python/site-packages/urllib3/util/retry.py:515\u001b[0m, in \u001b[0;36mRetry.increment\u001b[0;34m(self, method, url, response, error, _pool, _stacktrace)\u001b[0m\n\u001b[1;32m    514\u001b[0m     reason \u001b[39m=\u001b[39m error \u001b[39mor\u001b[39;00m ResponseError(cause)\n\u001b[0;32m--> 515\u001b[0m     \u001b[39mraise\u001b[39;00m MaxRetryError(_pool, url, reason) \u001b[39mfrom\u001b[39;00m\u001b[39m \u001b[39m\u001b[39mreason\u001b[39;00m  \u001b[39m# type: ignore[arg-type]\u001b[39;00m\n\u001b[1;32m    517\u001b[0m log\u001b[39m.\u001b[39mdebug(\u001b[39m\"\u001b[39m\u001b[39mIncremented Retry for (url=\u001b[39m\u001b[39m'\u001b[39m\u001b[39m%s\u001b[39;00m\u001b[39m'\u001b[39m\u001b[39m): \u001b[39m\u001b[39m%r\u001b[39;00m\u001b[39m\"\u001b[39m, url, new_retry)\n",
      "\u001b[0;31mMaxRetryError\u001b[0m: HTTPSConnectionPool(host='api.worldquantbrain.com', port=443): Max retries exceeded with url: /simulations/1gk1Oacvt5888Dy1bxL5gGG5 (Caused by ProxyError('Unable to connect to proxy', RemoteDisconnected('Remote end closed connection without response')))",
      "\nDuring handling of the above exception, another exception occurred:\n",
      "\u001b[0;31mProxyError\u001b[0m                                Traceback (most recent call last)",
      "\u001b[1;32m/Users/daijunpeng/Documents/user/Alpha Machine_user.ipynb Cell 15\u001b[0m line \u001b[0;36m7\n\u001b[1;32m      <a href='vscode-notebook-cell:/Users/daijunpeng/Documents/user/Alpha%20Machine_user.ipynb#X20sZmlsZQ%3D%3D?line=4'>5</a>\u001b[0m first_layer_bag \u001b[39m=\u001b[39m []\n\u001b[1;32m      <a href='vscode-notebook-cell:/Users/daijunpeng/Documents/user/Alpha%20Machine_user.ipynb#X20sZmlsZQ%3D%3D?line=5'>6</a>\u001b[0m fo_alpha_dict_unSimulated \u001b[39m=\u001b[39m \u001b[39mdict\u001b[39m(fo_alpha_dict)\n\u001b[0;32m----> <a href='vscode-notebook-cell:/Users/daijunpeng/Documents/user/Alpha%20Machine_user.ipynb#X20sZmlsZQ%3D%3D?line=6'>7</a>\u001b[0m simulate(fo_alpha_dict, region_dict, \u001b[39m\"\u001b[39;49m\u001b[39mmodel51_usa\u001b[39;49m\u001b[39m\"\u001b[39;49m, \u001b[39m'\u001b[39;49m\u001b[39mSUBINDUSTRY\u001b[39;49m\u001b[39m'\u001b[39;49m, \u001b[39m0\u001b[39;49m, first_layer_bag)\n",
      "File \u001b[0;32m~/Documents/user/machine_lib.py:310\u001b[0m, in \u001b[0;36msimulate\u001b[0;34m(alpha_dict, region_dict, name, neut, start, stone_bag)\u001b[0m\n\u001b[1;32m    308\u001b[0m \u001b[39mfor\u001b[39;00m progress \u001b[39min\u001b[39;00m progress_urls:\n\u001b[1;32m    309\u001b[0m     \u001b[39mwhile\u001b[39;00m \u001b[39mTrue\u001b[39;00m:\n\u001b[0;32m--> 310\u001b[0m         simulation_progress \u001b[39m=\u001b[39m s\u001b[39m.\u001b[39;49mget(progress)\n\u001b[1;32m    311\u001b[0m         \u001b[39mif\u001b[39;00m simulation_progress\u001b[39m.\u001b[39mheaders\u001b[39m.\u001b[39mget(\u001b[39m\"\u001b[39m\u001b[39mRetry-After\u001b[39m\u001b[39m\"\u001b[39m, \u001b[39m0\u001b[39m) \u001b[39m==\u001b[39m \u001b[39m0\u001b[39m:\n\u001b[1;32m    312\u001b[0m             \u001b[39mbreak\u001b[39;00m\n",
      "File \u001b[0;32m~/Library/Python/3.9/lib/python/site-packages/requests/sessions.py:602\u001b[0m, in \u001b[0;36mSession.get\u001b[0;34m(self, url, **kwargs)\u001b[0m\n\u001b[1;32m    594\u001b[0m \u001b[39m\u001b[39m\u001b[39mr\u001b[39m\u001b[39m\"\"\"Sends a GET request. Returns :class:`Response` object.\u001b[39;00m\n\u001b[1;32m    595\u001b[0m \n\u001b[1;32m    596\u001b[0m \u001b[39m:param url: URL for the new :class:`Request` object.\u001b[39;00m\n\u001b[1;32m    597\u001b[0m \u001b[39m:param \\*\\*kwargs: Optional arguments that ``request`` takes.\u001b[39;00m\n\u001b[1;32m    598\u001b[0m \u001b[39m:rtype: requests.Response\u001b[39;00m\n\u001b[1;32m    599\u001b[0m \u001b[39m\"\"\"\u001b[39;00m\n\u001b[1;32m    601\u001b[0m kwargs\u001b[39m.\u001b[39msetdefault(\u001b[39m\"\u001b[39m\u001b[39mallow_redirects\u001b[39m\u001b[39m\"\u001b[39m, \u001b[39mTrue\u001b[39;00m)\n\u001b[0;32m--> 602\u001b[0m \u001b[39mreturn\u001b[39;00m \u001b[39mself\u001b[39;49m\u001b[39m.\u001b[39;49mrequest(\u001b[39m\"\u001b[39;49m\u001b[39mGET\u001b[39;49m\u001b[39m\"\u001b[39;49m, url, \u001b[39m*\u001b[39;49m\u001b[39m*\u001b[39;49mkwargs)\n",
      "File \u001b[0;32m~/Library/Python/3.9/lib/python/site-packages/requests/sessions.py:589\u001b[0m, in \u001b[0;36mSession.request\u001b[0;34m(self, method, url, params, data, headers, cookies, files, auth, timeout, allow_redirects, proxies, hooks, stream, verify, cert, json)\u001b[0m\n\u001b[1;32m    584\u001b[0m send_kwargs \u001b[39m=\u001b[39m {\n\u001b[1;32m    585\u001b[0m     \u001b[39m\"\u001b[39m\u001b[39mtimeout\u001b[39m\u001b[39m\"\u001b[39m: timeout,\n\u001b[1;32m    586\u001b[0m     \u001b[39m\"\u001b[39m\u001b[39mallow_redirects\u001b[39m\u001b[39m\"\u001b[39m: allow_redirects,\n\u001b[1;32m    587\u001b[0m }\n\u001b[1;32m    588\u001b[0m send_kwargs\u001b[39m.\u001b[39mupdate(settings)\n\u001b[0;32m--> 589\u001b[0m resp \u001b[39m=\u001b[39m \u001b[39mself\u001b[39;49m\u001b[39m.\u001b[39;49msend(prep, \u001b[39m*\u001b[39;49m\u001b[39m*\u001b[39;49msend_kwargs)\n\u001b[1;32m    591\u001b[0m \u001b[39mreturn\u001b[39;00m resp\n",
      "File \u001b[0;32m~/Library/Python/3.9/lib/python/site-packages/requests/sessions.py:703\u001b[0m, in \u001b[0;36mSession.send\u001b[0;34m(self, request, **kwargs)\u001b[0m\n\u001b[1;32m    700\u001b[0m start \u001b[39m=\u001b[39m preferred_clock()\n\u001b[1;32m    702\u001b[0m \u001b[39m# Send the request\u001b[39;00m\n\u001b[0;32m--> 703\u001b[0m r \u001b[39m=\u001b[39m adapter\u001b[39m.\u001b[39;49msend(request, \u001b[39m*\u001b[39;49m\u001b[39m*\u001b[39;49mkwargs)\n\u001b[1;32m    705\u001b[0m \u001b[39m# Total elapsed time of the request (approximately)\u001b[39;00m\n\u001b[1;32m    706\u001b[0m elapsed \u001b[39m=\u001b[39m preferred_clock() \u001b[39m-\u001b[39m start\n",
      "File \u001b[0;32m~/Library/Python/3.9/lib/python/site-packages/requests/adapters.py:513\u001b[0m, in \u001b[0;36mHTTPAdapter.send\u001b[0;34m(self, request, stream, timeout, verify, cert, proxies)\u001b[0m\n\u001b[1;32m    510\u001b[0m     \u001b[39mraise\u001b[39;00m RetryError(e, request\u001b[39m=\u001b[39mrequest)\n\u001b[1;32m    512\u001b[0m \u001b[39mif\u001b[39;00m \u001b[39misinstance\u001b[39m(e\u001b[39m.\u001b[39mreason, _ProxyError):\n\u001b[0;32m--> 513\u001b[0m     \u001b[39mraise\u001b[39;00m ProxyError(e, request\u001b[39m=\u001b[39mrequest)\n\u001b[1;32m    515\u001b[0m \u001b[39mif\u001b[39;00m \u001b[39misinstance\u001b[39m(e\u001b[39m.\u001b[39mreason, _SSLError):\n\u001b[1;32m    516\u001b[0m     \u001b[39m# This branch is for urllib3 v1.22 and later.\u001b[39;00m\n\u001b[1;32m    517\u001b[0m     \u001b[39mraise\u001b[39;00m SSLError(e, request\u001b[39m=\u001b[39mrequest)\n",
      "\u001b[0;31mProxyError\u001b[0m: HTTPSConnectionPool(host='api.worldquantbrain.com', port=443): Max retries exceeded with url: /simulations/1gk1Oacvt5888Dy1bxL5gGG5 (Caused by ProxyError('Unable to connect to proxy', RemoteDisconnected('Remote end closed connection without response')))"
     ]
    }
   ],
   "source": [
    "# 对上边生成的因子进行回测，并标记回测的name为analyst4_fo_usa（可以自己修改，只是个标记用以筛选）\n",
    "# region_dict在上边定义过的，不用动\n",
    "# 回测的中性化设置为SUBINDUSTRY（如果想要也可以修改，但没必要，成为顾问后会有新的代码给）\n",
    "# 从第0个因子开始回测，将回测结果放进first_layer_bag中\n",
    "first_layer_bag = []\n",
    "fo_alpha_dict_unSimulated = dict(fo_alpha_dict)\n",
    "simulate(fo_alpha_dict, region_dict, \"model51_usa\", 'SUBINDUSTRY', 0, first_layer_bag)"
   ]
  },
  {
   "cell_type": "code",
   "execution_count": 20,
   "id": "7acdd3f9",
   "metadata": {},
   "outputs": [
    {
     "name": "stdout",
     "output_type": "stream",
     "text": [
      "b'{\"user\":{\"id\":\"SD75828\"},\"token\":{\"expiry\":14400.0},\"permissions\":[\"TUTORIAL\"]}'\n",
      "username:1012169960@qq.com logged inpassword:Ace144169\n",
      "alpha_dict_unSimulated:\n",
      "0\n"
     ]
    },
    {
     "data": {
      "text/plain": [
       "{}"
      ]
     },
     "execution_count": 20,
     "metadata": {},
     "output_type": "execute_result"
    }
   ],
   "source": [
    "test_alpha = dict(fo_alpha_dict_unSimulated)\n",
    "fo_alpha_dict_unSimulated.clear()\n",
    "simulate_new(test_alpha, fo_alpha_dict_unSimulated, region_dict, \"model51_usa\", 'SUBINDUSTRY', 0)"
   ]
  },
  {
   "cell_type": "markdown",
   "id": "03124465-1fe9-4820-915a-bc21795bff00",
   "metadata": {},
   "source": [
    "## 5, Select alphas\n",
    "go to web alphas penal to look for the number and date to track for next order improve"
   ]
  },
  {
   "cell_type": "code",
   "execution_count": 3,
   "id": "864fe347-6346-4276-8223-76a558df369b",
   "metadata": {},
   "outputs": [
    {
     "name": "stdout",
     "output_type": "stream",
     "text": [
      "b'{\"user\":{\"id\":\"SD75828\"},\"token\":{\"expiry\":14400.0},\"permissions\":[\"TUTORIAL\",\"WORKDAY\"]}'\n",
      "username:1012169960@qq.com logged inpassword:Ace144169\n",
      "0\n",
      "['RAYrRva', 'group_neutralize(-ts_rank(winsorize(ts_backfill(pv13_custretsig_retsig, 120), std=4), 120),densify(pv13_r2_min20_3000_sector))', 1.62, 0.4914, 0.79, 0.000478, '2025-04-01T23:51:08-04:00', 12]\n",
      "['Ne6Am5X', \"group_rank(ts_mean(winsorize(ts_backfill(rel_num_comp, 120), std=4), 22),densify(bucket(group_rank(cap,sector),range='0,1,0.1')))\", 1.52, 0.0252, 1.18, 0.006001, '2025-04-01T23:41:22-04:00', 3]\n",
      "['AQb3xjg', \"group_zscore(ts_sum(winsorize(ts_backfill(pv13_revere_key_sector_total, 120), std=4), 240),densify(bucket(group_rank(cap,sector),range='0,1,0.1')))\", 1.29, 0.0367, 1.22, 0.006143, '2025-04-01T23:57:44-04:00', 3]\n",
      "['zrXA2Zd', 'ts_arg_max(winsorize(ts_backfill(pv13_revere_comproduct_company, 120), std=4), 5)', 1.25, 0.3004, 1.77, 0.004013, '2025-04-01T02:54:47-04:00', 3]\n",
      "['kJXKvxl', 'group_zscore(-ts_zscore(winsorize(ts_backfill(pv13_custretsig_retsig, 120), std=4), 66),densify(subindustry))', 1.2, 0.4778, 0.52, 0.000374, '2025-04-01T23:58:14-04:00', 12]\n",
      "['7oQJ7pv', 'group_neutralize(-ts_mean(winsorize(ts_backfill(pv13_custretsig_retsig, 120), std=4), 5),densify(pv13_r2_min20_3000_sector))', 1.19, 0.3494, 0.61, 0.000525, '2025-04-01T23:40:46-04:00', 6]\n",
      "['5jNLOrX', 'ts_sum(winsorize(ts_backfill(pv13_revere_key_sector_total, 120), std=4), 240)', 1.08, 0.0224, 1.03, 0.010124, '2025-04-01T00:25:14-04:00', 3]\n",
      "['2jRKW26', \"group_zscore(ts_arg_max(winsorize(ts_backfill(pv13_reveremap, 120), std=4), 22),densify(bucket(group_rank(cap,sector),range='0,1,0.1')))\", 0.86, 0.2001, 0.63, 0.001064, '2025-04-01T23:59:15-04:00', 3]\n",
      "['PM6v08q', 'group_rank(ts_arg_min(winsorize(ts_backfill(pv13_revere_country, 120), std=4), 22),densify(sector))', 0.84, 0.0795, 0.57, 0.00146, '2025-04-01T23:40:29-04:00', 3]\n",
      "['OJKbaJg', 'ts_mean(winsorize(ts_backfill(pv13_revere_key_sector_total, 120), std=4), 240)', 0.81, 0.0147, 0.77, 0.015309, '2025-04-01T00:11:42-04:00', 3]\n",
      "['OJKRgAb', 'ts_arg_min(winsorize(ts_backfill(pv13_revere_country, 120), std=4), 22)', 0.73, 0.14, 0.52, 0.001034, '2025-04-01T03:06:06-04:00', 3]\n",
      "['M09GNon', 'ts_mean(winsorize(ts_backfill(rel_num_comp, 120), std=4), 22)', 0.68, 0.0089, 0.45, 0.012389, '2025-04-01T01:32:18-04:00', 3]\n",
      "['OJkn8dJ', 'group_neutralize(ts_mean(winsorize(ts_backfill(rel_num_comp, 120), std=4), 22),densify(sector))', 0.67, 0.009, 0.44, 0.012284, '2025-04-01T23:36:10-04:00', 3]\n",
      "['nAw8dLd', 'ts_rank(winsorize(ts_backfill(pv13_revere_level, 120), std=4), 22)', 0.66, 0.0252, 0.49, 0.005548, '2025-04-01T01:19:01-04:00', 3]\n",
      "['0jnAxmk', 'ts_mean(winsorize(ts_backfill(rel_num_all, 120), std=4), 240)', 0.65, 0.0075, 0.46, 0.016682, '2025-04-01T00:27:42-04:00', 3]\n",
      "['XRXzjLl', 'ts_arg_max(winsorize(ts_backfill(pv13_reveremap, 120), std=4), 22)', 0.64, 0.1731, 0.46, 0.001025, '2025-04-01T03:18:32-04:00', 3]\n",
      "['mYe629W', 'ts_scale(winsorize(ts_backfill(pv13_revere_company_total, 120), std=4), 66)', 0.57, 0.0946, 0.49, 0.001982, '2025-04-01T02:07:05-04:00', 3]\n",
      "['YxXzjEl', 'ts_mean(winsorize(ts_backfill(pv13_revere_country, 120), std=4), 22)', -0.66, 0.012, -0.46, -0.010278, '2025-04-01T03:18:36-04:00', 3]\n",
      "['x1XlLaJ', 'ts_std_dev(winsorize(ts_backfill(pv13_revere_country, 120), std=4), 5)', -0.67, 0.0685, -0.46, -0.001689, '2025-04-01T02:56:50-04:00', 3]\n",
      "['rdQlaoa', 'ts_mean(winsorize(ts_backfill(pv13_revere_country, 120), std=4), 66)', -0.67, 0.0119, -0.47, -0.010452, '2025-04-01T01:11:47-04:00', 3]\n",
      "['w915W5d', 'group_zscore(ts_std_dev(winsorize(ts_backfill(pv13_revere_country, 120), std=4), 5),densify(market))', -0.73, 0.0589, -0.5, -0.002, '2025-04-01T23:38:10-04:00', 3]\n",
      "['e6ezNap', 'ts_sum(winsorize(ts_backfill(pv13_custretsig_retsig, 120), std=4), 240)', -0.74, 0.1146, -0.5, -0.000999, '2025-04-01T01:41:04-04:00', 3]\n",
      "['QYjQArW', \"group_rank(ts_sum(winsorize(ts_backfill(pv13_custretsig_retsig, 120), std=4), 240),densify(bucket(group_rank(cap,sector),range='0,1,0.1')))\", -0.83, 0.1158, -0.56, -0.000984, '2025-04-01T23:59:48-04:00', 3]\n",
      "['jeNP7QW', 'ts_arg_min(winsorize(ts_backfill(rel_ret_all, 120), std=4), 66)', -0.85, 0.1099, -0.42, -0.000561, '2025-04-01T03:17:50-04:00', 3]\n",
      "['PMj7bWM', 'ts_sum(winsorize(ts_backfill(pv13_reveremap, 120), std=4), 66)', -0.89, 0.0102, -0.63, -0.012152, '2025-04-01T01:42:26-04:00', 3]\n",
      "['nAw3lLa', 'ts_scale(winsorize(ts_backfill(pv13_ustomergraphrank_hub_rank, 120), std=4), 240)', -0.93, 0.0292, -0.45, -0.001999, '2025-04-01T00:39:35-04:00', 3]\n",
      "['x1QnVpN', \"group_rank(ts_rank(winsorize(ts_backfill(pv13_revere_level, 120), std=4), 22),densify(bucket(group_rank(cap,sector),range='0,1,0.1')))\", -1.0, 0.0082, -0.45, -0.006198, '2025-04-01T23:58:29-04:00', 3]\n",
      "['aVXb25w', 'ts_sum(winsorize(ts_backfill(pv13_reveremap, 120), std=4), 5)', -1.01, 0.0119, -0.77, -0.012084, '2025-04-01T01:56:52-04:00', 3]\n",
      "['mYAZdmx', 'group_neutralize(ts_zscore(winsorize(ts_backfill(rel_num_part, 120), std=4), 120),densify(market))', -1.02, 0.1458, -0.55, -0.000572, '2025-04-01T23:47:54-04:00', 3]\n",
      "['dKeoX9g', 'ts_zscore(winsorize(ts_backfill(rel_num_part, 120), std=4), 120)', -1.02, 0.146, -0.55, -0.000571, '2025-04-01T03:29:49-04:00', 3]\n",
      "['WLKY8nQ', 'ts_scale(winsorize(ts_backfill(pv13_revere_zipcode, 120), std=4), 66)', -1.11, 0.1229, -1.73, -0.004965, '2025-04-01T02:48:36-04:00', 3]\n",
      "['ZmkjQE8', 'ts_arg_min(winsorize(ts_backfill(rel_ret_comp, 120), std=4), 22)', -1.11, 0.2227, -0.48, -0.000377, '2025-04-01T00:27:04-04:00', 3]\n",
      "['b8MvnaR', \"group_zscore(ts_sum(winsorize(ts_backfill(pv13_reveremap, 120), std=4), 5),densify(bucket(group_rank(cap,sector),range='0,1,0.1')))\", -1.15, 0.0222, -0.83, -0.005869, '2025-04-01T23:48:37-04:00', 3]\n",
      "['ZmxoEVZ', '-group_rank(ts_arg_min(winsorize(ts_backfill(rel_ret_comp, 120), std=4), 22),densify(subindustry))', -1.21, 0.1971, -0.57, -0.000446, '2025-04-01T23:56:22-04:00', 3]\n",
      "['OJKRzjg', '-ts_mean(winsorize(ts_backfill(pv13_custretsig_retsig, 120), std=4), 5)', -1.33, 0.4376, -0.69, -0.000534, '2025-04-01T03:05:43-04:00', 3]\n",
      "['dKeQg2Y', '-ts_zscore(winsorize(ts_backfill(pv13_custretsig_retsig, 120), std=4), 66)', -1.45, 0.9159, -0.53, -0.000267, '2025-04-01T00:43:32-04:00', 3]\n",
      "['Kmxnl68', '-ts_rank(winsorize(ts_backfill(pv13_custretsig_retsig, 120), std=4), 120)', -1.73, 0.9234, -0.67, -0.000296, '2025-04-01T00:20:49-04:00', 3]\n",
      "100\n",
      "200\n",
      "300\n",
      "400\n",
      "count: 42\n"
     ]
    }
   ],
   "source": [
    "## get promising alphas to improve in the next order\n",
    "# 选择时间区间内满足sharpe>0.5, fitness>0.4的已回测过的因子，获取的最大数量为500个\n",
    "# 这里的时间区间内如果你没有回测或是没有满足条件的回测过的因子，则返回空\n",
    "# 所以需要你先跑上边的一阶因子，之后才有东西进行二阶回测\n",
    "fo_tracker = get_alphas(\"2025-04-01\", \"2025-04-02\", 0.5, 0.4, \"USA\", 500, \"track\")"
   ]
  },
  {
   "cell_type": "code",
   "execution_count": null,
   "id": "59a7584f-989a-4440-95d1-7f0609486537",
   "metadata": {},
   "outputs": [],
   "source": [
    "# 对获取的因子进行预处理\n",
    "print(len(fo_tracker['next']))\n",
    "print(len(fo_tracker['decay']))\n",
    "fo_layer = transform(fo_tracker['next'] + fo_tracker['decay'], 'usa')"
   ]
  },
  {
   "cell_type": "markdown",
   "id": "6a6ae688-d0e6-42bb-a9bd-a8d6a044b027",
   "metadata": {},
   "source": [
    "## 6, Next order improvement\n",
    "second order: ts_ops(field, days) -> group_ops(ts_ops(field, days), group)"
   ]
  },
  {
   "cell_type": "code",
   "execution_count": null,
   "id": "e195afb3-d95c-413b-8285-660b4ccc265c",
   "metadata": {},
   "outputs": [],
   "source": [
    "# 对获取的因子进行二阶加工，得到更复杂的二阶因子\n",
    "so_alpha_dict = defaultdict(list)\n",
    "for key, couples in fo_layer.items():\n",
    "    for expr, decay in couples:\n",
    "        for alpha in get_group_second_order_factory([expr], group_ops, key):\n",
    "            so_alpha_dict[key].append((alpha,decay))\n",
    "\n",
    "for key, value in so_alpha_dict.items():\n",
    "    print(\"%s : %d\"%(key, len(value)))\n",
    "np.random.shuffle(so_alpha_dict['usa'])\n",
    "print(so_alpha_dict['usa'][:3])"
   ]
  },
  {
   "cell_type": "code",
   "execution_count": null,
   "id": "3644ad07",
   "metadata": {},
   "outputs": [],
   "source": [
    "#so_bag = []\n",
    "fo_alpha_dict_unSimulated = dict(so_alpha_dict)"
   ]
  },
  {
   "cell_type": "code",
   "execution_count": null,
   "id": "bf3929e6-776b-427d-a128-4d19ceda25d3",
   "metadata": {},
   "outputs": [],
   "source": [
    "# 回测二阶因子，参数含义和上边一样\n",
    "# simulate second order alphas\n",
    "test_alpha = dict(fo_alpha_dict_unSimulated)\n",
    "fo_alpha_dict_unSimulated.clear()\n",
    "simulate_new(test_alpha, fo_alpha_dict_unSimulated, region_dict, \"news18_usa\", 'SUBINDUSTRY', 0)\n",
    "#simulate(so_alpha_dict, region_dict, \"news18_usa\", 'SUBINDUSTRY', 0, so_bag)"
   ]
  },
  {
   "cell_type": "markdown",
   "id": "856f927b",
   "metadata": {},
   "source": [
    "## Higher Order for improvement - Third Order\n",
    "group_ops(ts_ops(field, days), group) -> trade_when(entre_event, group_ops(ts_ops(field, days), group), exit_event)"
   ]
  },
  {
   "cell_type": "code",
   "execution_count": null,
   "id": "82afbc8c",
   "metadata": {},
   "outputs": [],
   "source": [
    "# 三阶处理方式同理\n",
    "## get promising alphas from second order to improve in the third order\n",
    "so_tracker = get_alphas(\"2025-03-22\", \"2025-03-23\", 0.7, 0.5, \"USA\", 500, \"track\")\n",
    "\n",
    "print(len(so_tracker['next']))\n",
    "print(len(so_tracker['decay']))\n",
    "\n",
    "so_layer = prune(so_tracker['next'] + so_tracker['decay'], 'usa', 'anl', 5)\n",
    "th_alpha_dirt = defaultdict(list)\n",
    "for region, couples in so_layer.items():\n",
    "    for expr, decay in couples:\n",
    "        for alpha in trade_when_factory(\"trade_when\",expr,region):\n",
    "            th_alpha_dirt[region].append((alpha,decay))\n",
    "np.random.shuffle(th_alpha_dirt['usa'])"
   ]
  },
  {
   "cell_type": "markdown",
   "id": "02ba5bdb",
   "metadata": {},
   "source": [
    "### Simulate Third Order"
   ]
  },
  {
   "cell_type": "code",
   "execution_count": null,
   "id": "c9163f52",
   "metadata": {},
   "outputs": [],
   "source": [
    "fo_alpha_dict_unSimulated = dict(th_alpha_dirt)"
   ]
  },
  {
   "cell_type": "code",
   "execution_count": null,
   "id": "f269b740",
   "metadata": {},
   "outputs": [],
   "source": [
    "# simulate second order alphas\n",
    "#th_bag = []\n",
    "test_alpha = dict(fo_alpha_dict_unSimulated)\n",
    "fo_alpha_dict_unSimulated.clear()\n",
    "simulate_new(test_alpha, fo_alpha_dict_unSimulated, region_dict, \"news18_usa\", 'SUBINDUSTRY', 0)\n",
    "#simulate(th_alpha_dirt, region_dict, \"pv1_usa\", 'SUBINDUSTRY', 0, th_bag)"
   ]
  },
  {
   "cell_type": "markdown",
   "id": "c55f86b4-b464-44e4-ab33-ca2532128fa2",
   "metadata": {},
   "source": [
    "## 7, Get submittable alphas\n",
    "check_submission and view alphas"
   ]
  },
  {
   "cell_type": "code",
   "execution_count": null,
   "id": "0972b4ee-7b9d-4a6f-a7ec-e43849f54275",
   "metadata": {},
   "outputs": [],
   "source": [
    "# get submitable alphas to check submission\n",
    "th_tracker = get_alphas(\"2025-03-22\", \"2025-03-23\", 1.25, 1, \"USA\", 500, \"submit\")"
   ]
  },
  {
   "cell_type": "code",
   "execution_count": null,
   "id": "ecdb7bae-6d0c-45d2-a91e-7ca789e3b92d",
   "metadata": {},
   "outputs": [],
   "source": [
    "# 得到上边获得的因子的alpha id 存放在stone_bag种\n",
    "stone_bag = []\n",
    "for alpha in th_tracker['next'] + th_tracker['decay']:\n",
    "    stone_bag.append(alpha[0])\n",
    "print(len(stone_bag))\n",
    "gold_bag = []\n",
    "\n",
    "# 对stone_bag中的因子检查是否可以提交，可以提交的因子会存放在gold_bag中\n",
    "# 过程种输出为catch的因子id为测试失败的因子，也就是不能确定可不可以提交\n",
    "# 所以这边建议直接用check文件直接把stone bag的因子全部尝试进行提交\n",
    "#check_submission(stone_bag, gold_bag, 0)"
   ]
  },
  {
   "cell_type": "code",
   "execution_count": null,
   "id": "f54bcb30-6c07-4d59-b6ea-01508118b577",
   "metadata": {},
   "outputs": [],
   "source": [
    "# look date and metrics to locate alphas in the web\n",
    "# 查看可提交的因子的详细信息\n",
    "view_alphas(gold_bag)\n",
    "print(len(stone_bag))"
   ]
  },
  {
   "cell_type": "code",
   "execution_count": null,
   "id": "7b50ad59",
   "metadata": {},
   "outputs": [],
   "source": [
    "submit_alpha(stone_bag, 0)"
   ]
  },
  {
   "cell_type": "markdown",
   "id": "802d5f47-6a65-4b93-8f00-397cbd276520",
   "metadata": {},
   "source": [
    "## 8, fine-tune submittable alphas\n",
    "neutralization, performance comparison, turnover, margin"
   ]
  }
 ],
 "metadata": {
  "kernelspec": {
   "display_name": "Python 3",
   "language": "python",
   "name": "python3"
  },
  "language_info": {
   "codemirror_mode": {
    "name": "ipython",
    "version": 3
   },
   "file_extension": ".py",
   "mimetype": "text/x-python",
   "name": "python",
   "nbconvert_exporter": "python",
   "pygments_lexer": "ipython3",
   "version": "3.9.6"
  }
 },
 "nbformat": 4,
 "nbformat_minor": 5
}
